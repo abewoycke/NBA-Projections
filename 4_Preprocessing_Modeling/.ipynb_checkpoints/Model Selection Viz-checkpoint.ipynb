{
 "cells": [
  {
   "cell_type": "code",
   "execution_count": 1,
   "metadata": {},
   "outputs": [],
   "source": [
    "import pandas as pd\n",
    "import numpy as np\n",
    "from sklearn.model_selection import train_test_split\n",
    "from sklearn.preprocessing import StandardScaler\n",
    "from sklearn.ensemble import GradientBoostingClassifier\n",
    "from sklearn.model_selection import RandomizedSearchCV\n",
    "from sklearn.metrics import roc_curve, auc, accuracy_score\n",
    "from sklearn.linear_model import LogisticRegression\n",
    "from sklearn.model_selection import GridSearchCV\n",
    "from keras.callbacks import EarlyStopping\n",
    "from keras import Sequential\n",
    "from keras.layers import Input, Dense\n",
    "from keras.utils.np_utils import to_categorical\n",
    "from keras.wrappers.scikit_learn import KerasClassifier\n",
    "from sklearn.model_selection import cross_val_score\n",
    "import warnings\n",
    "import pickle"
   ]
  },
  {
   "cell_type": "code",
   "execution_count": 20,
   "metadata": {},
   "outputs": [],
   "source": [
    "df = pd.read_csv(\"compare.csv\")\n",
    "\n",
    "X = df.drop([\"home_win\"], axis=1)\n",
    "y = df.home_win.ravel()\n",
    "X_train, X_test, y_train, y_test = train_test_split(X, y)\n",
    "scaler = StandardScaler().fit(X_train)\n",
    "X_train = scaler.transform(X_train)\n",
    "X_test = scaler.transform(X_test)"
   ]
  },
  {
   "cell_type": "code",
   "execution_count": 3,
   "metadata": {},
   "outputs": [],
   "source": [
    "# function to create + fit model, required for KerasClassifier\n",
    "\n",
    "def create_model(layers,nodes,activation,batch_size,optimizer):\n",
    "    model = Sequential()\n",
    "    model.add(Input(shape=(14,)))\n",
    "    for x in range(layers):\n",
    "        model.add(Dense(nodes, activation=activation))\n",
    "    model.add(Dense(2, activation='sigmoid'))\n",
    "    model.compile(optimizer=optimizer,loss='categorical_crossentropy',metrics=['accuracy'])\n",
    "    model.fit(predictors,target,batch_size=batch_size,epochs=50,validation_data=(X_val, y_val),callbacks=callbacks,verbose=0)\n",
    "    model._estimator_type = 'regressor'\n",
    "    return model\n",
    "\n",
    "# adjust format of inputs for neural network classifier\n",
    "predictors = np.matrix(X_train)\n",
    "target = to_categorical(y_train)\n",
    "X_val = np.matrix(X_test)\n",
    "y_val = to_categorical(y_test)\n",
    "\n",
    "# early stopping callback to expedite tuning search\n",
    "callbacks = [EarlyStopping(monitor=\"val_loss\", min_delta=1e-3,patience=3,verbose=0)]"
   ]
  },
  {
   "cell_type": "code",
   "execution_count": 4,
   "metadata": {},
   "outputs": [],
   "source": [
    "clf1 = GradientBoostingClassifier(loss='exponential', n_estimators=250,\n",
    "                                 min_samples_split=5, min_samples_leaf=4,\n",
    "                                 max_features=8).fit(X_train,y_train)\n",
    "clf2 = LogisticRegression(penalty='l1',solver='saga',warm_start=True).fit(X_train,y_train)\n",
    "clf3 = create_model(16,128,'relu',64,'adam')"
   ]
  },
  {
   "cell_type": "code",
   "execution_count": 5,
   "metadata": {},
   "outputs": [],
   "source": [
    "def soft_voting(input,*args):\n",
    "    '''takes an input array and fitted predictors, and returns an array of their predictions averaged'''\n",
    "    preds = {}\n",
    "    clfs=[]\n",
    "    vote_preds = []\n",
    "    for arg in args:\n",
    "        if arg._estimator_type == 'classifier':\n",
    "            pred = arg.predict_proba(input)\n",
    "            preds[arg] = pred\n",
    "        else:\n",
    "            new_preds = []\n",
    "            pred = arg.predict(input)\n",
    "            for entry in pred:\n",
    "                new_preds.append(entry[1])\n",
    "            preds[arg] = new_preds\n",
    "    for key in preds.keys():\n",
    "        clfs.append(key)\n",
    "    for x in range(len(input)):\n",
    "        votes = []\n",
    "        for clf in clfs:\n",
    "            votes.append(preds[clf][x])\n",
    "        vote_preds.append(np.mean(votes))\n",
    "    return vote_preds\n",
    "\n",
    "def hard_voting(input,*args):\n",
    "    '''takes an input array and fitted predictors, and returns an array of their prediction consensus'''\n",
    "    preds = {}\n",
    "    clfs=[]\n",
    "    vote_preds = []\n",
    "    for arg in args:\n",
    "        if arg._estimator_type == 'classifier':\n",
    "            pred = arg.predict(input)\n",
    "            preds[arg] = pred\n",
    "        else:\n",
    "            new_preds = []\n",
    "            pred = (arg.predict(input) > 0.5).astype(\"int32\")\n",
    "            for entry in pred:\n",
    "                new_preds.append(entry[1])\n",
    "            preds[arg] = new_preds\n",
    "    for key in preds.keys():\n",
    "        clfs.append(key)\n",
    "    for x in range(len(input)):\n",
    "        votes = []\n",
    "        for clf in clfs:\n",
    "            votes.append(preds[clf][x])\n",
    "        vote_preds.append(np.mean(votes))\n",
    "    return vote_preds"
   ]
  },
  {
   "cell_type": "code",
   "execution_count": 14,
   "metadata": {},
   "outputs": [],
   "source": [
    "def check_models(X_test,y_test):\n",
    "    '''takes an input subset of our dataset, and returns the AUROC for each of our models'''\n",
    "    scores = []\n",
    "    for clf in [clf1,clf2,clf3]:\n",
    "        if clf._estimator_type =='classifier':\n",
    "            y_pred = clf.predict(X_test)\n",
    "            fpr, tpr, thresholds = roc_curve(y_test, y_pred)\n",
    "            roc_auc = auc(fpr, tpr)\n",
    "            scores.append(roc_auc)\n",
    "        else:\n",
    "            y_pred = []\n",
    "            preds = clf.predict(X_test)\n",
    "            for entry in preds:\n",
    "                y_pred.append(entry[1])\n",
    "            fpr, tpr, thresholds = roc_curve(y_test, y_pred)\n",
    "            roc_auc = auc(fpr, tpr)\n",
    "            scores.append(roc_auc)\n",
    "    return scores"
   ]
  },
  {
   "cell_type": "code",
   "execution_count": 9,
   "metadata": {},
   "outputs": [
    {
     "data": {
      "text/plain": [
       "(5694,)"
      ]
     },
     "execution_count": 9,
     "metadata": {},
     "output_type": "execute_result"
    }
   ],
   "source": [
    "clf1.predict(X_test).shape"
   ]
  },
  {
   "cell_type": "code",
   "execution_count": 10,
   "metadata": {},
   "outputs": [
    {
     "data": {
      "text/plain": [
       "(5694,)"
      ]
     },
     "execution_count": 10,
     "metadata": {},
     "output_type": "execute_result"
    }
   ],
   "source": [
    "clf2.predict(X_test).shape"
   ]
  },
  {
   "cell_type": "code",
   "execution_count": 11,
   "metadata": {},
   "outputs": [
    {
     "data": {
      "text/plain": [
       "(5694, 2)"
      ]
     },
     "execution_count": 11,
     "metadata": {},
     "output_type": "execute_result"
    }
   ],
   "source": [
    "clf3.predict(X_test).shape"
   ]
  },
  {
   "cell_type": "code",
   "execution_count": 15,
   "metadata": {},
   "outputs": [
    {
     "data": {
      "text/plain": [
       "[0.6157571253021276, 0.6182168292542753, 0.6759997572002083]"
      ]
     },
     "execution_count": 15,
     "metadata": {},
     "output_type": "execute_result"
    }
   ],
   "source": [
    "check_models(X_test,y_test)"
   ]
  },
  {
   "cell_type": "code",
   "execution_count": 17,
   "metadata": {},
   "outputs": [
    {
     "data": {
      "text/plain": [
       "[0.6520221370796084, 0.6165839103368097, 0.6936722747522878]"
      ]
     },
     "execution_count": 17,
     "metadata": {},
     "output_type": "execute_result"
    }
   ],
   "source": [
    "check_models(X_test,y_test)"
   ]
  },
  {
   "cell_type": "code",
   "execution_count": 19,
   "metadata": {},
   "outputs": [
    {
     "data": {
      "text/plain": [
       "[0.6422555168408828, 0.6080925280681377, 0.6915832365466512]"
      ]
     },
     "execution_count": 19,
     "metadata": {},
     "output_type": "execute_result"
    }
   ],
   "source": [
    "check_models(X_test,y_test)"
   ]
  },
  {
   "cell_type": "code",
   "execution_count": 21,
   "metadata": {},
   "outputs": [
    {
     "data": {
      "text/plain": [
       "[0.6415262354913883, 0.618715445352853, 0.7039357960103998]"
      ]
     },
     "execution_count": 21,
     "metadata": {},
     "output_type": "execute_result"
    }
   ],
   "source": [
    "check_models(X_test,y_test)"
   ]
  },
  {
   "cell_type": "code",
   "execution_count": null,
   "metadata": {},
   "outputs": [],
   "source": []
  }
 ],
 "metadata": {
  "kernelspec": {
   "display_name": "Python 3",
   "language": "python",
   "name": "python3"
  },
  "language_info": {
   "codemirror_mode": {
    "name": "ipython",
    "version": 3
   },
   "file_extension": ".py",
   "mimetype": "text/x-python",
   "name": "python",
   "nbconvert_exporter": "python",
   "pygments_lexer": "ipython3",
   "version": "3.7.6"
  }
 },
 "nbformat": 4,
 "nbformat_minor": 4
}
