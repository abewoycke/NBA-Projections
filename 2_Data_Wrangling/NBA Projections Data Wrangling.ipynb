{
 "cells": [
  {
   "cell_type": "markdown",
   "metadata": {},
   "source": [
    "# NBA Game Outcome Projections"
   ]
  },
  {
   "cell_type": "markdown",
   "metadata": {},
   "source": [
    "The goal of this project is to project the outcomes of NBA games. To this end, I am using a dataset with game data from 2004-2020."
   ]
  },
  {
   "cell_type": "code",
   "execution_count": 1,
   "metadata": {},
   "outputs": [],
   "source": [
    "import pandas as pd\n",
    "import seaborn as sns\n",
    "import numpy as np\n",
    "import warnings\n",
    "from datetime import datetime, timedelta\n",
    "from tqdm import tqdm\n",
    "import matplotlib.pyplot as plt"
   ]
  },
  {
   "cell_type": "code",
   "execution_count": 2,
   "metadata": {},
   "outputs": [],
   "source": [
    "# games import\n",
    "df = pd.read_csv(\"games.csv\")"
   ]
  },
  {
   "cell_type": "code",
   "execution_count": 3,
   "metadata": {},
   "outputs": [],
   "source": [
    "# games details import\n",
    "df2 = pd.read_csv(\"games_details.csv\")"
   ]
  },
  {
   "cell_type": "code",
   "execution_count": 4,
   "metadata": {},
   "outputs": [],
   "source": [
    "# merge\n",
    "df = df.merge(df2, on=\"GAME_ID\")"
   ]
  },
  {
   "cell_type": "code",
   "execution_count": 5,
   "metadata": {},
   "outputs": [],
   "source": [
    "# drop some columns\n",
    "to_drop = ['GAME_STATUS_TEXT','HOME_TEAM_ID',\n",
    "       'VISITOR_TEAM_ID','COMMENT']\n",
    "df = df.drop(labels=to_drop,axis=1)"
   ]
  },
  {
   "cell_type": "code",
   "execution_count": 6,
   "metadata": {},
   "outputs": [],
   "source": [
    "# fix some nulls\n",
    "df.START_POSITION.fillna(\"Bench\", inplace=True)"
   ]
  },
  {
   "cell_type": "code",
   "execution_count": 7,
   "metadata": {},
   "outputs": [],
   "source": [
    "# fill empty values with 0 (which in this case is their true value)\n",
    "df.fillna(0,inplace=True)"
   ]
  },
  {
   "cell_type": "code",
   "execution_count": 8,
   "metadata": {},
   "outputs": [],
   "source": [
    "def team_stats(TEAM_ID,GAME_ID):\n",
    "    '''assembles specified team's stats for the specified game'''\n",
    "    with warnings.catch_warnings():\n",
    "        warnings.simplefilter(\"ignore\")\n",
    "        querydf = df[df['GAME_ID']==GAME_ID][df['TEAM_ID']==TEAM_ID]\n",
    "        PF = np.sum(querydf['PF'])\n",
    "        TO = np.sum(querydf['TO'])\n",
    "        BLK = np.sum(querydf['BLK'])\n",
    "        STL = np.sum(querydf['STL'])\n",
    "        AST = np.sum(querydf['AST'])\n",
    "        OREB = np.sum(querydf['OREB']) \n",
    "        DREB = np.sum(querydf['DREB'])\n",
    "        FTA = np.sum(querydf['FTA'])\n",
    "        FTM = np.sum(querydf['FTM'])\n",
    "        FG3A = np.sum(querydf['FG3A'])\n",
    "        FG3M = np.sum(querydf['FG3M'])\n",
    "        FG2A = np.sum(querydf['FGA'])-FG3A\n",
    "        FG2M = np.sum(querydf['FGM'])-FG3M\n",
    "        \n",
    "        # is the team the home team?\n",
    "        home_id = querydf['TEAM_ID_home'].values[0]\n",
    "        \n",
    "        if home_id == TEAM_ID:\n",
    "            home_g = 1\n",
    "            away_g = 0\n",
    "        else:\n",
    "            home_g = 0\n",
    "            away_g = 1\n",
    "    \n",
    "        home_win = querydf['HOME_TEAM_WINS'].values[0]\n",
    "        \n",
    "        if home_g == 1 and home_win == 1:\n",
    "            win = 1\n",
    "            loss = 0\n",
    "        elif away_g == 1 and home_win == 0:\n",
    "            win = 1\n",
    "            loss = 0\n",
    "        else:\n",
    "            win = 0\n",
    "            loss = 1\n",
    "        \n",
    "        return FG2M, FG2A, FG3M, FG3A, FTM, FTA, AST, TO, OREB, DREB, BLK, STL, PF, home_g, away_g, win, loss "
   ]
  },
  {
   "cell_type": "code",
   "execution_count": 9,
   "metadata": {},
   "outputs": [],
   "source": [
    "# change date strings to datetime objects\n",
    "df.GAME_DATE_EST = pd.to_datetime(df.GAME_DATE_EST)"
   ]
  },
  {
   "cell_type": "code",
   "execution_count": 10,
   "metadata": {},
   "outputs": [],
   "source": [
    "def on_this_day(TEAM_ID,SEASON,DATE):\n",
    "    '''runs and compiles team_stats for every game in a season up to the date of interest'''\n",
    "    DATE = pd.to_datetime(DATE)\n",
    "    upper_bound = DATE - timedelta(days=1)\n",
    "    # filter df by current season\n",
    "    season = df[df['SEASON']==SEASON]\n",
    "    # filter that by TEAM_ID\n",
    "    team_season = season[df['TEAM_ID']==TEAM_ID]\n",
    "    # filter that into date range first game->upper_bound\n",
    "    team_season_date = team_season[df['GAME_DATE_EST']<=upper_bound]\n",
    "    # unique game ids\n",
    "    games = team_season_date['GAME_ID'].unique()\n",
    "    # empty array to sum within\n",
    "    results = np.zeros(17)\n",
    "    # game_ids from there\n",
    "    for id in games:\n",
    "        results += team_stats(TEAM_ID,id)\n",
    "    return results"
   ]
  },
  {
   "cell_type": "code",
   "execution_count": 11,
   "metadata": {},
   "outputs": [],
   "source": [
    "temp_dict={}"
   ]
  },
  {
   "cell_type": "code",
   "execution_count": null,
   "metadata": {},
   "outputs": [
    {
     "name": "stderr",
     "output_type": "stream",
     "text": [
      "  3%|██                                                                          | 608/23096 [03:27<4:20:22,  1.44it/s]"
     ]
    }
   ],
   "source": [
    "# applies on_this_day for each game, and stores in temp_dict.\n",
    "# the result is a dictionary of each team's stats going into the game,\n",
    "# which is the information we can use as input for predictions on new,\n",
    "# unseen data\n",
    "with warnings.catch_warnings():\n",
    "    warnings.simplefilter(\"ignore\")\n",
    "    with tqdm(total=(len(df.GAME_ID.unique()))) as pbar:\n",
    "        for id in df.GAME_ID.unique():\n",
    "            home_team_id = df[df['GAME_ID']==id]['TEAM_ID_home'].values[0]\n",
    "            away_team_id = df[df['GAME_ID']==id]['TEAM_ID_away'].values[0]\n",
    "            season = df[df['GAME_ID']==id]['SEASON'].values[0]\n",
    "            date = df[df['GAME_ID']==id]['GAME_DATE_EST'].values[0]\n",
    "            home = on_this_day(home_team_id, season, date)\n",
    "            away = on_this_day(away_team_id, season, date)\n",
    "            gameday = np.concatenate((home,away))\n",
    "            temp_dict[id] = gameday\n",
    "            pbar.update(1)"
   ]
  },
  {
   "cell_type": "code",
   "execution_count": null,
   "metadata": {},
   "outputs": [],
   "source": [
    "# create new df, add dict of lists to it\n",
    "on_this_df=pd.DataFrame(temp_dict).T\n",
    "\n",
    "on_this_df.to_csv(\"raw_on_this_df.csv\")"
   ]
  },
  {
   "cell_type": "code",
   "execution_count": null,
   "metadata": {},
   "outputs": [],
   "source": [
    "# column labels for newly constructed df\n",
    "cols = ['FG2M', 'FG2A', 'FG3M', 'FG3A', 'FTM', 'FTA', 'AST', 'TO', 'OREB', 'DREB', 'BLK', 'STL', 'PF', 'home_g', 'away_g', 'win', 'loss']\n",
    "new_cols1 = []\n",
    "for col in cols:\n",
    "    col = \"home_\"+col\n",
    "    new_cols1.append(col)\n",
    "new_cols2 = []\n",
    "for col in cols:\n",
    "    col = \"away_\"+col\n",
    "    new_cols2.append(col)\n",
    "on_this_df.columns = new_cols1 + new_cols2\n",
    "on_this_df.index.name = \"GAME_ID\"\n",
    "df = on_this_df"
   ]
  },
  {
   "cell_type": "code",
   "execution_count": null,
   "metadata": {},
   "outputs": [],
   "source": [
    "to_drop = ['home_home_g','home_away_g','away_home_g','away_away_g']\n",
    "df = df.drop(labels=to_drop, axis=1)"
   ]
  },
  {
   "cell_type": "code",
   "execution_count": null,
   "metadata": {},
   "outputs": [],
   "source": [
    "df2 = pd.read_csv(\"games.csv\")"
   ]
  },
  {
   "cell_type": "code",
   "execution_count": null,
   "metadata": {},
   "outputs": [],
   "source": [
    "df = pd.merge(df, df2, left_index=True, right_on=\"GAME_ID\")"
   ]
  },
  {
   "cell_type": "code",
   "execution_count": null,
   "metadata": {},
   "outputs": [],
   "source": [
    "to_drop = ['GAME_DATE_EST', 'GAME_ID',\n",
    "       'GAME_STATUS_TEXT', 'HOME_TEAM_ID', 'VISITOR_TEAM_ID', 'SEASON',\n",
    "       'TEAM_ID_home', 'PTS_home', 'FG_PCT_home', 'FT_PCT_home',\n",
    "       'FG3_PCT_home', 'AST_home', 'REB_home', 'TEAM_ID_away', 'PTS_away',\n",
    "       'FG_PCT_away', 'FT_PCT_away', 'FG3_PCT_away', 'AST_away', 'REB_away']\n",
    "df=df.drop(labels=to_drop, axis=1)"
   ]
  },
  {
   "cell_type": "code",
   "execution_count": null,
   "metadata": {},
   "outputs": [],
   "source": [
    "_ = plt.figure(figsize=(15,10))\n",
    "_ = sns.heatmap(df.corr())"
   ]
  },
  {
   "cell_type": "code",
   "execution_count": null,
   "metadata": {},
   "outputs": [],
   "source": [
    "df.describe().T"
   ]
  },
  {
   "cell_type": "code",
   "execution_count": null,
   "metadata": {},
   "outputs": [],
   "source": [
    "df.to_csv(\"clean.csv\")"
   ]
  }
 ],
 "metadata": {
  "kernelspec": {
   "display_name": "Python 3",
   "language": "python",
   "name": "python3"
  },
  "language_info": {
   "codemirror_mode": {
    "name": "ipython",
    "version": 3
   },
   "file_extension": ".py",
   "mimetype": "text/x-python",
   "name": "python",
   "nbconvert_exporter": "python",
   "pygments_lexer": "ipython3",
   "version": "3.7.6"
  }
 },
 "nbformat": 4,
 "nbformat_minor": 4
}
